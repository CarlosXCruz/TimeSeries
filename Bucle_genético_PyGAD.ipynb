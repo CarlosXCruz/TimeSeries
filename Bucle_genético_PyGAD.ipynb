{
  "nbformat": 4,
  "nbformat_minor": 0,
  "metadata": {
    "colab": {
      "provenance": [],
      "collapsed_sections": [
        "JbKTWDd80wLA",
        "YWS_2gRK8DU0",
        "yL95k6PKIy90",
        "doA2Zj5DBugN",
        "8-xn5yoWBzUs",
        "IDjfr0rnNRSD"
      ],
      "mount_file_id": "1-_xEVt3unFi7wgPYP-rTkijrBy0ypIHs",
      "authorship_tag": "ABX9TyOpreYWcHRuWacwqt6nYjTy"
    },
    "kernelspec": {
      "name": "python3",
      "display_name": "Python 3"
    },
    "language_info": {
      "name": "python"
    }
  },
  "cells": [
    {
      "cell_type": "markdown",
      "source": [
        "# Librerías"
      ],
      "metadata": {
        "id": "hhjKQsLg61g3"
      }
    },
    {
      "cell_type": "code",
      "execution_count": null,
      "metadata": {
        "id": "HqmdsrxC6qFT"
      },
      "outputs": [],
      "source": [
        "# Tratamiento de datos\n",
        "# ==============================================================================\n",
        "import numpy as np\n",
        "import pandas as pd\n",
        "\n",
        "# Gráficos\n",
        "# ==============================================================================\n",
        "import matplotlib.pyplot as plt\n",
        "plt.style.use('fivethirtyeight')\n",
        "plt.rcParams['lines.linewidth'] = 1.5\n",
        "import matplotlib.ticker as ticker\n",
        "from matplotlib import style\n",
        "%matplotlib inline\n",
        "\n",
        "# Modelado y Forecasting\n",
        "# ==============================================================================\n",
        "from sklearn.linear_model import LinearRegression\n",
        "from sklearn.linear_model import Lasso\n",
        "from sklearn.ensemble import RandomForestRegressor\n",
        "from sklearn.metrics import mean_squared_error\n",
        "from sklearn.metrics import mean_absolute_error\n",
        "from sklearn.preprocessing import StandardScaler\n",
        "from sklearn.pipeline import make_pipeline\n",
        "\n",
        "%pip install skforecast\n",
        "from skforecast.ForecasterAutoreg import ForecasterAutoreg\n",
        "from skforecast.ForecasterAutoregCustom import ForecasterAutoregCustom\n",
        "from skforecast.ForecasterAutoregDirect import ForecasterAutoregDirect\n",
        "from skforecast.model_selection import grid_search_forecaster\n",
        "from skforecast.model_selection import backtesting_forecaster\n",
        "from skforecast.utils import save_forecaster\n",
        "from skforecast.utils import load_forecaster\n",
        "\n",
        "# Algoritmo genético\n",
        "# ==============================================================================\n",
        "%pip install pygad\n",
        "import pygad as pg\n",
        "\n",
        "# Configuración warnings\n",
        "# ==============================================================================\n",
        "import warnings\n",
        "# warnings.filterwarnings('ignore')\n",
        "\n",
        "# Google Drive\n",
        "# ==============================================================================\n",
        "#from google.colab import drive\n",
        "#drive.mount('/content/drive')"
      ]
    },
    {
      "cell_type": "markdown",
      "source": [
        "# Datasets"
      ],
      "metadata": {
        "id": "z3BT85vM69p0"
      }
    },
    {
      "cell_type": "markdown",
      "source": [
        "## Generación de energía solar en España\n",
        "\n",
        "---\n",
        "Código: SOL\n",
        "\n",
        "Frecuencia temporal: 1 Hora"
      ],
      "metadata": {
        "id": "JbKTWDd80wLA"
      }
    },
    {
      "cell_type": "code",
      "source": [
        "# Descarga de datos\n",
        "# ==============================================================================\n",
        "url = 'https://www.dropbox.com/s/axfbmqdcpquqqun/dataset_solar_1h.csv?dl=1'\n",
        "datos = pd.read_csv(url, sep=',', names=['fecha', 'y'], usecols=['fecha', 'y'], header=None)"
      ],
      "metadata": {
        "id": "ggbKHb-SDzNs"
      },
      "execution_count": null,
      "outputs": []
    },
    {
      "cell_type": "code",
      "source": [
        "# Preparación del dato\n",
        "# ==============================================================================\n",
        "datos['fecha'] = pd.to_datetime(datos['fecha'], format='%Y/%m/%d %H:%M:%S')\n",
        "datos = datos.set_index('fecha')\n",
        "datos = datos.rename(columns={'x': 'y'})\n",
        "datos = datos.asfreq('H')\n",
        "datos = datos.sort_index()\n",
        "datos.head()"
      ],
      "metadata": {
        "colab": {
          "base_uri": "https://localhost:8080/",
          "height": 238
        },
        "id": "sqG8CJDhD8z7",
        "outputId": "65e6abb4-84f4-4168-d967-98c65b9261a7"
      },
      "execution_count": null,
      "outputs": [
        {
          "output_type": "execute_result",
          "data": {
            "text/plain": [
              "                             y\n",
              "fecha                         \n",
              "2014-01-01 00:00:00  24.000000\n",
              "2014-01-01 01:00:00  24.000000\n",
              "2014-01-01 02:00:00  23.833333\n",
              "2014-01-01 03:00:00  24.000000\n",
              "2014-01-01 04:00:00  23.166667"
            ],
            "text/html": [
              "\n",
              "  <div id=\"df-3a7421fb-85a2-43a7-9932-6636849df490\">\n",
              "    <div class=\"colab-df-container\">\n",
              "      <div>\n",
              "<style scoped>\n",
              "    .dataframe tbody tr th:only-of-type {\n",
              "        vertical-align: middle;\n",
              "    }\n",
              "\n",
              "    .dataframe tbody tr th {\n",
              "        vertical-align: top;\n",
              "    }\n",
              "\n",
              "    .dataframe thead th {\n",
              "        text-align: right;\n",
              "    }\n",
              "</style>\n",
              "<table border=\"1\" class=\"dataframe\">\n",
              "  <thead>\n",
              "    <tr style=\"text-align: right;\">\n",
              "      <th></th>\n",
              "      <th>y</th>\n",
              "    </tr>\n",
              "    <tr>\n",
              "      <th>fecha</th>\n",
              "      <th></th>\n",
              "    </tr>\n",
              "  </thead>\n",
              "  <tbody>\n",
              "    <tr>\n",
              "      <th>2014-01-01 00:00:00</th>\n",
              "      <td>24.000000</td>\n",
              "    </tr>\n",
              "    <tr>\n",
              "      <th>2014-01-01 01:00:00</th>\n",
              "      <td>24.000000</td>\n",
              "    </tr>\n",
              "    <tr>\n",
              "      <th>2014-01-01 02:00:00</th>\n",
              "      <td>23.833333</td>\n",
              "    </tr>\n",
              "    <tr>\n",
              "      <th>2014-01-01 03:00:00</th>\n",
              "      <td>24.000000</td>\n",
              "    </tr>\n",
              "    <tr>\n",
              "      <th>2014-01-01 04:00:00</th>\n",
              "      <td>23.166667</td>\n",
              "    </tr>\n",
              "  </tbody>\n",
              "</table>\n",
              "</div>\n",
              "      <button class=\"colab-df-convert\" onclick=\"convertToInteractive('df-3a7421fb-85a2-43a7-9932-6636849df490')\"\n",
              "              title=\"Convert this dataframe to an interactive table.\"\n",
              "              style=\"display:none;\">\n",
              "        \n",
              "  <svg xmlns=\"http://www.w3.org/2000/svg\" height=\"24px\"viewBox=\"0 0 24 24\"\n",
              "       width=\"24px\">\n",
              "    <path d=\"M0 0h24v24H0V0z\" fill=\"none\"/>\n",
              "    <path d=\"M18.56 5.44l.94 2.06.94-2.06 2.06-.94-2.06-.94-.94-2.06-.94 2.06-2.06.94zm-11 1L8.5 8.5l.94-2.06 2.06-.94-2.06-.94L8.5 2.5l-.94 2.06-2.06.94zm10 10l.94 2.06.94-2.06 2.06-.94-2.06-.94-.94-2.06-.94 2.06-2.06.94z\"/><path d=\"M17.41 7.96l-1.37-1.37c-.4-.4-.92-.59-1.43-.59-.52 0-1.04.2-1.43.59L10.3 9.45l-7.72 7.72c-.78.78-.78 2.05 0 2.83L4 21.41c.39.39.9.59 1.41.59.51 0 1.02-.2 1.41-.59l7.78-7.78 2.81-2.81c.8-.78.8-2.07 0-2.86zM5.41 20L4 18.59l7.72-7.72 1.47 1.35L5.41 20z\"/>\n",
              "  </svg>\n",
              "      </button>\n",
              "      \n",
              "  <style>\n",
              "    .colab-df-container {\n",
              "      display:flex;\n",
              "      flex-wrap:wrap;\n",
              "      gap: 12px;\n",
              "    }\n",
              "\n",
              "    .colab-df-convert {\n",
              "      background-color: #E8F0FE;\n",
              "      border: none;\n",
              "      border-radius: 50%;\n",
              "      cursor: pointer;\n",
              "      display: none;\n",
              "      fill: #1967D2;\n",
              "      height: 32px;\n",
              "      padding: 0 0 0 0;\n",
              "      width: 32px;\n",
              "    }\n",
              "\n",
              "    .colab-df-convert:hover {\n",
              "      background-color: #E2EBFA;\n",
              "      box-shadow: 0px 1px 2px rgba(60, 64, 67, 0.3), 0px 1px 3px 1px rgba(60, 64, 67, 0.15);\n",
              "      fill: #174EA6;\n",
              "    }\n",
              "\n",
              "    [theme=dark] .colab-df-convert {\n",
              "      background-color: #3B4455;\n",
              "      fill: #D2E3FC;\n",
              "    }\n",
              "\n",
              "    [theme=dark] .colab-df-convert:hover {\n",
              "      background-color: #434B5C;\n",
              "      box-shadow: 0px 1px 3px 1px rgba(0, 0, 0, 0.15);\n",
              "      filter: drop-shadow(0px 1px 2px rgba(0, 0, 0, 0.3));\n",
              "      fill: #FFFFFF;\n",
              "    }\n",
              "  </style>\n",
              "\n",
              "      <script>\n",
              "        const buttonEl =\n",
              "          document.querySelector('#df-3a7421fb-85a2-43a7-9932-6636849df490 button.colab-df-convert');\n",
              "        buttonEl.style.display =\n",
              "          google.colab.kernel.accessAllowed ? 'block' : 'none';\n",
              "\n",
              "        async function convertToInteractive(key) {\n",
              "          const element = document.querySelector('#df-3a7421fb-85a2-43a7-9932-6636849df490');\n",
              "          const dataTable =\n",
              "            await google.colab.kernel.invokeFunction('convertToInteractive',\n",
              "                                                     [key], {});\n",
              "          if (!dataTable) return;\n",
              "\n",
              "          const docLinkHtml = 'Like what you see? Visit the ' +\n",
              "            '<a target=\"_blank\" href=https://colab.research.google.com/notebooks/data_table.ipynb>data table notebook</a>'\n",
              "            + ' to learn more about interactive tables.';\n",
              "          element.innerHTML = '';\n",
              "          dataTable['output_type'] = 'display_data';\n",
              "          await google.colab.output.renderOutput(dataTable, element);\n",
              "          const docLink = document.createElement('div');\n",
              "          docLink.innerHTML = docLinkHtml;\n",
              "          element.appendChild(docLink);\n",
              "        }\n",
              "      </script>\n",
              "    </div>\n",
              "  </div>\n",
              "  "
            ]
          },
          "metadata": {},
          "execution_count": 91
        }
      ]
    },
    {
      "cell_type": "code",
      "source": [
        "print(f'Número de filas con missing values: {datos.isnull().any(axis=1).mean()}')"
      ],
      "metadata": {
        "colab": {
          "base_uri": "https://localhost:8080/"
        },
        "id": "G6TffTfXBTBc",
        "outputId": "8f506035-ea3c-4a6f-9442-3a710c15fef7"
      },
      "execution_count": null,
      "outputs": [
        {
          "output_type": "stream",
          "name": "stdout",
          "text": [
            "Número de filas con missing values: 0.0\n"
          ]
        }
      ]
    },
    {
      "cell_type": "code",
      "source": [
        "# Verificar que un índice temporal está completo\n",
        "# ==============================================================================\n",
        "(datos.index == pd.date_range(\n",
        "                    start = datos.index.min(),\n",
        "                    end   = datos.index.max(),\n",
        "                    freq  = datos.index.freq)\n",
        ").all()"
      ],
      "metadata": {
        "colab": {
          "base_uri": "https://localhost:8080/"
        },
        "id": "Voq4ewUWBO6c",
        "outputId": "688137ff-d040-4989-d61a-e6e3793cb43e"
      },
      "execution_count": null,
      "outputs": [
        {
          "output_type": "execute_result",
          "data": {
            "text/plain": [
              "True"
            ]
          },
          "metadata": {},
          "execution_count": 93
        }
      ]
    },
    {
      "cell_type": "code",
      "source": [
        "# Completar huecos en un índice temporal\n",
        "# ==============================================================================\n",
        "# datos.asfreq(freq='60min', fill_value=np.nan)"
      ],
      "metadata": {
        "id": "FvsTGfnPBVSM"
      },
      "execution_count": null,
      "outputs": []
    },
    {
      "cell_type": "markdown",
      "source": [
        "# Generación de energía eólica en España\n",
        "\n",
        "\n",
        "---\n",
        "\n",
        "Código: EOLO\n",
        "\n",
        "Frecuencia temporal: 10 mins"
      ],
      "metadata": {
        "id": "bs22D0rN08qt"
      }
    },
    {
      "cell_type": "code",
      "source": [
        "# Descarga de datos\n",
        "# ==============================================================================\n",
        "url = 'https://www.dropbox.com/s/2o68sl7q6dcv156/data_no_timestamp.csv?dl=1'\n",
        "datos = pd.read_csv(url, sep=',', names=['fecha', 'y'], usecols=['fecha', 'y'], header=None)"
      ],
      "metadata": {
        "colab": {
          "base_uri": "https://localhost:8080/"
        },
        "id": "v9qQZLIt1E8R",
        "outputId": "eb4d54f1-1189-4b19-a02a-012fa23408aa"
      },
      "execution_count": null,
      "outputs": [
        {
          "output_type": "stream",
          "name": "stderr",
          "text": [
            "/usr/local/lib/python3.8/dist-packages/IPython/core/interactiveshell.py:3326: DtypeWarning: Columns (1) have mixed types.Specify dtype option on import or set low_memory=False.\n",
            "  exec(code_obj, self.user_global_ns, self.user_ns)\n"
          ]
        }
      ]
    },
    {
      "cell_type": "code",
      "source": [
        "# Preparación del dato\n",
        "# ==============================================================================\n",
        "datos['fecha'] = pd.to_datetime(datos['fecha'], format='%Y-%m-%dT%H:%M:%S.%f', errors = 'coerce')\n",
        "datos = datos.set_index('fecha')\n",
        "datos = datos.rename(columns={'x': 'y'})\n",
        "datos = datos.asfreq('10min')\n",
        "datos = datos.sort_index()\n",
        "datos = datos.astype({'y': 'float'})\n",
        "datos.head()"
      ],
      "metadata": {
        "id": "9qOOC6k21Got"
      },
      "execution_count": null,
      "outputs": []
    },
    {
      "cell_type": "code",
      "source": [
        "print(f'Número de filas con missing values: {datos.isnull().any(axis=1).mean()}')"
      ],
      "metadata": {
        "colab": {
          "base_uri": "https://localhost:8080/"
        },
        "id": "bqkurxz01JpN",
        "outputId": "be6bc475-1ee9-4275-f23d-2c0fa2935b12"
      },
      "execution_count": null,
      "outputs": [
        {
          "output_type": "stream",
          "name": "stdout",
          "text": [
            "Número de filas con missing values: 0.0\n"
          ]
        }
      ]
    },
    {
      "cell_type": "code",
      "source": [
        "# Verificar que un índice temporal está completo\n",
        "# ==============================================================================\n",
        "(datos.index == pd.date_range(\n",
        "                    start = datos.index.min(),\n",
        "                    end   = datos.index.max(),\n",
        "                    freq  = datos.index.freq)\n",
        ").all()"
      ],
      "metadata": {
        "colab": {
          "base_uri": "https://localhost:8080/"
        },
        "id": "msS12qxU1LO9",
        "outputId": "f04deebe-ba99-4241-d31e-381ff5c4f45a"
      },
      "execution_count": null,
      "outputs": [
        {
          "output_type": "execute_result",
          "data": {
            "text/plain": [
              "True"
            ]
          },
          "metadata": {},
          "execution_count": 36
        }
      ]
    },
    {
      "cell_type": "code",
      "source": [
        "# Completar huecos en un índice temporal\n",
        "# ==============================================================================\n",
        "# bool_series = datos['y'].isnull()\n",
        "# datos[bool_series]\n",
        "\n",
        "# datos.asfreq(freq='10min', fill_value=np.nan)"
      ],
      "metadata": {
        "id": "B4xQf2Vk1Mtd"
      },
      "execution_count": null,
      "outputs": []
    },
    {
      "cell_type": "markdown",
      "source": [
        "# Temperatura de San Francisco\n",
        "\n",
        "\n",
        "---\n",
        "\n",
        "Código: TSF\n",
        "\n",
        "Frecuencia temporal: 1 hora"
      ],
      "metadata": {
        "id": "pQokZyV2xXld"
      }
    },
    {
      "cell_type": "code",
      "source": [
        "# Descarga de datos\n",
        "# ==============================================================================\n",
        "url = 'https://www.dropbox.com/s/60vw4wp6770iqbu/dataset_tsf.csv?dl=1'\n",
        "datos = pd.read_csv(url, sep=',', names=['y'], usecols=['y'], header=None)"
      ],
      "metadata": {
        "id": "fAnE1Jg_yJMc"
      },
      "execution_count": null,
      "outputs": []
    },
    {
      "cell_type": "code",
      "source": [
        "# Preparación del dato\n",
        "# ==============================================================================\n",
        "datos['fecha'] = pd.date_range(start='1/11/2012 13:00:00', periods=len(datos), freq='H')\n",
        "datos = datos.set_index('fecha')\n",
        "datos = datos.rename(columns={'x': 'y'})\n",
        "datos = datos.asfreq('H')\n",
        "datos = datos.sort_index()\n",
        "datos = datos.astype({'y': 'float'})\n",
        "datos.head()"
      ],
      "metadata": {
        "id": "hj2FXjJQym6E"
      },
      "execution_count": null,
      "outputs": []
    },
    {
      "cell_type": "code",
      "source": [
        "print(f'Número de filas con missing values: {datos.isnull().any(axis=1).mean()}')"
      ],
      "metadata": {
        "id": "ugEOJ5WRyowV"
      },
      "execution_count": null,
      "outputs": []
    },
    {
      "cell_type": "code",
      "source": [
        "# Verificar que un índice temporal está completo\n",
        "# ==============================================================================\n",
        "(datos.index == pd.date_range(\n",
        "                    start = datos.index.min(),\n",
        "                    end   = datos.index.max(),\n",
        "                    freq  = datos.index.freq)\n",
        ").all()"
      ],
      "metadata": {
        "id": "g-IGGc_wyrGD"
      },
      "execution_count": null,
      "outputs": []
    },
    {
      "cell_type": "code",
      "source": [
        "# Completar huecos en un índice temporal\n",
        "# ==============================================================================\n",
        "# bool_series = datos['y'].isnull()\n",
        "# datos[bool_series]\n",
        "\n",
        "# datos.asfreq(freq='H', fill_value=np.nan)"
      ],
      "metadata": {
        "id": "tfHsIKccysgc"
      },
      "execution_count": null,
      "outputs": []
    },
    {
      "cell_type": "markdown",
      "source": [
        "# Inicialización y estratégia de ventana"
      ],
      "metadata": {
        "id": "YWS_2gRK8DU0"
      }
    },
    {
      "cell_type": "code",
      "source": [
        "lags = 48\n",
        "steps = 1"
      ],
      "metadata": {
        "id": "SBpNY0B40PZY"
      },
      "execution_count": null,
      "outputs": []
    },
    {
      "cell_type": "code",
      "source": [
        "# Separación datos train-test\n",
        "# ==============================================================================\n",
        "datos_train = datos[:-steps]\n",
        "datos_test  = datos[-steps:]\n",
        "\n",
        "print(f\"Fechas train : {datos_train.index.min()} --- {datos_train.index.max()}  (n={len(datos_train)})\")\n",
        "print(f\"Fechas test  : {datos_test.index.min()} --- {datos_test.index.max()}  (n={len(datos_test)})\")\n",
        "\n",
        "colors = plt.get_cmap('Set2', 10)\n",
        "\n",
        "fig, ax = plt.subplots(1,1,figsize=(15, 5))\n",
        "ax.plot(datos_train['y'], 'o-', c=colors(0), markersize=3.5, label='train')\n",
        "ax.plot(datos_test['y'], 'x-', c=colors(0), markersize=3.5, label='test')\n",
        "ax.legend();"
      ],
      "metadata": {
        "id": "HMsiBRm67Vi0",
        "colab": {
          "base_uri": "https://localhost:8080/",
          "height": 351
        },
        "outputId": "cd4ec887-be8d-49d3-c9fa-91797f45920b"
      },
      "execution_count": null,
      "outputs": [
        {
          "output_type": "stream",
          "name": "stdout",
          "text": [
            "Fechas train : 2014-01-01 00:00:00 --- 2020-12-31 23:40:00  (n=368207)\n",
            "Fechas test  : 2020-12-31 23:50:00 --- 2020-12-31 23:50:00  (n=1)\n"
          ]
        },
        {
          "output_type": "display_data",
          "data": {
            "text/plain": [
              "<Figure size 1080x360 with 1 Axes>"
            ],
            "image/png": "[encoded data removed]"
          },
          "metadata": {
            "needs_background": "light"
          }
        }
      ]
    },
    {
      "cell_type": "markdown",
      "source": [
        "# Predicción caso base"
      ],
      "metadata": {
        "id": "R-65TcfcJ79c"
      }
    },
    {
      "cell_type": "markdown",
      "source": [
        "## ForecasterAutoreg"
      ],
      "metadata": {
        "id": "yL95k6PKIy90"
      }
    },
    {
      "cell_type": "code",
      "source": [
        "# Crear y entrenar forecaster\n",
        "# ==============================================================================\n",
        "forecaster = ForecasterAutoreg(\n",
        "                regressor = RandomForestRegressor(random_state=123),\n",
        "                lags = lags\n",
        "             )\n",
        "\n",
        "forecaster.fit(datos_train['y'])\n",
        "forecaster"
      ],
      "metadata": {
        "id": "S3w3_K8fszDW",
        "colab": {
          "base_uri": "https://localhost:8080/"
        },
        "outputId": "626a4b7f-7f27-434d-bea8-1306347eb817"
      },
      "execution_count": null,
      "outputs": [
        {
          "output_type": "execute_result",
          "data": {
            "text/plain": [
              "================= \n",
              "ForecasterAutoreg \n",
              "================= \n",
              "Regressor: RandomForestRegressor(random_state=123) \n",
              "Lags: [ 1  2  3  4  5  6  7  8  9 10 11 12 13 14 15 16 17 18 19 20 21 22 23 24\n",
              " 25 26 27 28 29 30 31 32 33 34 35 36 37 38 39 40 41 42 43 44 45 46 47 48] \n",
              "Transformer for y: None \n",
              "Transformer for exog: None \n",
              "Window size: 48 \n",
              "Weight function included: False \n",
              "Exogenous included: False \n",
              "Type of exogenous variable: None \n",
              "Exogenous variables names: None \n",
              "Training range: [Timestamp('2014-01-01 00:00:00'), Timestamp('2020-12-31 23:40:00')] \n",
              "Training index type: DatetimeIndex \n",
              "Training index frequency: 10T \n",
              "Regressor parameters: {'bootstrap': True, 'ccp_alpha': 0.0, 'criterion': 'squared_error', 'max_depth': None, 'max_features': 'auto', 'max_leaf_nodes': None, 'max_samples': None, 'min_impurity_decrease': 0.0, 'min_samples_leaf': 1, 'min_samples_split': 2, 'min_weight_fraction_leaf': 0.0, 'n_estimators': 100, 'n_jobs': None, 'oob_score': False, 'random_state': 123, 'verbose': 0, 'warm_start': False} \n",
              "Creation date: 2022-12-12 09:15:47 \n",
              "Last fit date: 2022-12-12 09:50:19 \n",
              "Skforecast version: 0.6.0 \n",
              "Python version: 3.8.16 "
            ]
          },
          "metadata": {},
          "execution_count": 29
        }
      ]
    },
    {
      "cell_type": "code",
      "source": [
        "window = forecaster.create_train_X_y(datos_train['y'])\n",
        "window[0]"
      ],
      "metadata": {
        "id": "mA4sMkWaDWf0",
        "colab": {
          "base_uri": "https://localhost:8080/",
          "height": 846
        },
        "outputId": "b1a05ae1-5d50-47fe-864f-7a7d92c0432c"
      },
      "execution_count": null,
      "outputs": [
        {
          "output_type": "execute_result",
          "data": {
            "text/plain": [
              "                      lag_1   lag_2   lag_3   lag_4   lag_5   lag_6   lag_7  \\\n",
              "fecha                                                                         \n",
              "2014-01-01 08:00:00  9708.0  9792.0  9845.0  9850.0  9822.0  9872.0  9902.0   \n",
              "2014-01-01 08:10:00  9666.0  9708.0  9792.0  9845.0  9850.0  9822.0  9872.0   \n",
              "2014-01-01 08:20:00  9933.0  9666.0  9708.0  9792.0  9845.0  9850.0  9822.0   \n",
              "2014-01-01 08:30:00  9904.0  9933.0  9666.0  9708.0  9792.0  9845.0  9850.0   \n",
              "2014-01-01 08:40:00  9960.0  9904.0  9933.0  9666.0  9708.0  9792.0  9845.0   \n",
              "...                     ...     ...     ...     ...     ...     ...     ...   \n",
              "2020-12-31 23:00:00  7887.0  8032.0  8044.0  8164.0  8040.0  7877.0  8033.0   \n",
              "2020-12-31 23:10:00  7771.0  7887.0  8032.0  8044.0  8164.0  8040.0  7877.0   \n",
              "2020-12-31 23:20:00  7577.0  7771.0  7887.0  8032.0  8044.0  8164.0  8040.0   \n",
              "2020-12-31 23:30:00  7434.0  7577.0  7771.0  7887.0  8032.0  8044.0  8164.0   \n",
              "2020-12-31 23:40:00  7349.0  7434.0  7577.0  7771.0  7887.0  8032.0  8044.0   \n",
              "\n",
              "                      lag_8   lag_9  lag_10  ...   lag_39   lag_40   lag_41  \\\n",
              "fecha                                        ...                              \n",
              "2014-01-01 08:00:00  9913.0  9968.0  9981.0  ...  11243.0  11179.0  11176.0   \n",
              "2014-01-01 08:10:00  9902.0  9913.0  9968.0  ...  11213.0  11243.0  11179.0   \n",
              "2014-01-01 08:20:00  9872.0  9902.0  9913.0  ...  11102.0  11213.0  11243.0   \n",
              "2014-01-01 08:30:00  9822.0  9872.0  9902.0  ...  11052.0  11102.0  11213.0   \n",
              "2014-01-01 08:40:00  9850.0  9822.0  9872.0  ...  10983.0  11052.0  11102.0   \n",
              "...                     ...     ...     ...  ...      ...      ...      ...   \n",
              "2020-12-31 23:00:00  8099.0  8043.0  8031.0  ...  10096.0  10050.0  10109.0   \n",
              "2020-12-31 23:10:00  8033.0  8099.0  8043.0  ...   9990.0  10096.0  10050.0   \n",
              "2020-12-31 23:20:00  7877.0  8033.0  8099.0  ...   9791.0   9990.0  10096.0   \n",
              "2020-12-31 23:30:00  8040.0  7877.0  8033.0  ...   9659.0   9791.0   9990.0   \n",
              "2020-12-31 23:40:00  8164.0  8040.0  7877.0  ...   9481.0   9659.0   9791.0   \n",
              "\n",
              "                      lag_42   lag_43   lag_44   lag_45   lag_46   lag_47  \\\n",
              "fecha                                                                       \n",
              "2014-01-01 08:00:00  10987.0  10978.0  10912.0  11008.0  11079.0  11149.0   \n",
              "2014-01-01 08:10:00  11176.0  10987.0  10978.0  10912.0  11008.0  11079.0   \n",
              "2014-01-01 08:20:00  11179.0  11176.0  10987.0  10978.0  10912.0  11008.0   \n",
              "2014-01-01 08:30:00  11243.0  11179.0  11176.0  10987.0  10978.0  10912.0   \n",
              "2014-01-01 08:40:00  11213.0  11243.0  11179.0  11176.0  10987.0  10978.0   \n",
              "...                      ...      ...      ...      ...      ...      ...   \n",
              "2020-12-31 23:00:00  10129.0  10207.0  10276.0  10350.0  10431.0  10352.0   \n",
              "2020-12-31 23:10:00  10109.0  10129.0  10207.0  10276.0  10350.0  10431.0   \n",
              "2020-12-31 23:20:00  10050.0  10109.0  10129.0  10207.0  10276.0  10350.0   \n",
              "2020-12-31 23:30:00  10096.0  10050.0  10109.0  10129.0  10207.0  10276.0   \n",
              "2020-12-31 23:40:00   9990.0  10096.0  10050.0  10109.0  10129.0  10207.0   \n",
              "\n",
              "                      lag_48  \n",
              "fecha                         \n",
              "2014-01-01 08:00:00  11128.0  \n",
              "2014-01-01 08:10:00  11149.0  \n",
              "2014-01-01 08:20:00  11079.0  \n",
              "2014-01-01 08:30:00  11008.0  \n",
              "2014-01-01 08:40:00  10912.0  \n",
              "...                      ...  \n",
              "2020-12-31 23:00:00  10480.0  \n",
              "2020-12-31 23:10:00  10352.0  \n",
              "2020-12-31 23:20:00  10431.0  \n",
              "2020-12-31 23:30:00  10350.0  \n",
              "2020-12-31 23:40:00  10276.0  \n",
              "\n",
              "[368159 rows x 48 columns]"
            ],
            "text/html": [
              "\n",
              "  <div id=\"df-f6883314-2e1e-42ab-967d-1eb1ed425c13\">\n",
              "    <div class=\"colab-df-container\">\n",
              "      <div>\n",
              "<style scoped>\n",
              "    .dataframe tbody tr th:only-of-type {\n",
              "        vertical-align: middle;\n",
              "    }\n",
              "\n",
              "    .dataframe tbody tr th {\n",
              "        vertical-align: top;\n",
              "    }\n",
              "\n",
              "    .dataframe thead th {\n",
              "        text-align: right;\n",
              "    }\n",
              "</style>\n",
              "<table border=\"1\" class=\"dataframe\">\n",
              "  <thead>\n",
              "    <tr style=\"text-align: right;\">\n",
              "      <th></th>\n",
              "      <th>lag_1</th>\n",
              "      <th>lag_2</th>\n",
              "      <th>lag_3</th>\n",
              "      <th>lag_4</th>\n",
              "      <th>lag_5</th>\n",
              "      <th>lag_6</th>\n",
              "      <th>lag_7</th>\n",
              "      <th>lag_8</th>\n",
              "      <th>lag_9</th>\n",
              "      <th>lag_10</th>\n",
              "      <th>...</th>\n",
              "      <th>lag_39</th>\n",
              "      <th>lag_40</th>\n",
              "      <th>lag_41</th>\n",
              "      <th>lag_42</th>\n",
              "      <th>lag_43</th>\n",
              "      <th>lag_44</th>\n",
              "      <th>lag_45</th>\n",
              "      <th>lag_46</th>\n",
              "      <th>lag_47</th>\n",
              "      <th>lag_48</th>\n",
              "    </tr>\n",
              "    <tr>\n",
              "      <th>fecha</th>\n",
              "      <th></th>\n",
              "      <th></th>\n",
              "      <th></th>\n",
              "      <th></th>\n",
              "      <th></th>\n",
              "      <th></th>\n",
              "      <th></th>\n",
              "      <th></th>\n",
              "      <th></th>\n",
              "      <th></th>\n",
              "      <th></th>\n",
              "      <th></th>\n",
              "      <th></th>\n",
              "      <th></th>\n",
              "      <th></th>\n",
              "      <th></th>\n",
              "      <th></th>\n",
              "      <th></th>\n",
              "      <th></th>\n",
              "      <th></th>\n",
              "      <th></th>\n",
              "    </tr>\n",
              "  </thead>\n",
              "  <tbody>\n",
              "    <tr>\n",
              "      <th>2014-01-01 08:00:00</th>\n",
              "      <td>9708.0</td>\n",
              "      <td>9792.0</td>\n",
              "      <td>9845.0</td>\n",
              "      <td>9850.0</td>\n",
              "      <td>9822.0</td>\n",
              "      <td>9872.0</td>\n",
              "      <td>9902.0</td>\n",
              "      <td>9913.0</td>\n",
              "      <td>9968.0</td>\n",
              "      <td>9981.0</td>\n",
              "      <td>...</td>\n",
              "      <td>11243.0</td>\n",
              "      <td>11179.0</td>\n",
              "      <td>11176.0</td>\n",
              "      <td>10987.0</td>\n",
              "      <td>10978.0</td>\n",
              "      <td>10912.0</td>\n",
              "      <td>11008.0</td>\n",
              "      <td>11079.0</td>\n",
              "      <td>11149.0</td>\n",
              "      <td>11128.0</td>\n",
              "    </tr>\n",
              "    <tr>\n",
              "      <th>2014-01-01 08:10:00</th>\n",
              "      <td>9666.0</td>\n",
              "      <td>9708.0</td>\n",
              "      <td>9792.0</td>\n",
              "      <td>9845.0</td>\n",
              "      <td>9850.0</td>\n",
              "      <td>9822.0</td>\n",
              "      <td>9872.0</td>\n",
              "      <td>9902.0</td>\n",
              "      <td>9913.0</td>\n",
              "      <td>9968.0</td>\n",
              "      <td>...</td>\n",
              "      <td>11213.0</td>\n",
              "      <td>11243.0</td>\n",
              "      <td>11179.0</td>\n",
              "      <td>11176.0</td>\n",
              "      <td>10987.0</td>\n",
              "      <td>10978.0</td>\n",
              "      <td>10912.0</td>\n",
              "      <td>11008.0</td>\n",
              "      <td>11079.0</td>\n",
              "      <td>11149.0</td>\n",
              "    </tr>\n",
              "    <tr>\n",
              "      <th>2014-01-01 08:20:00</th>\n",
              "      <td>9933.0</td>\n",
              "      <td>9666.0</td>\n",
              "      <td>9708.0</td>\n",
              "      <td>9792.0</td>\n",
              "      <td>9845.0</td>\n",
              "      <td>9850.0</td>\n",
              "      <td>9822.0</td>\n",
              "      <td>9872.0</td>\n",
              "      <td>9902.0</td>\n",
              "      <td>9913.0</td>\n",
              "      <td>...</td>\n",
              "      <td>11102.0</td>\n",
              "      <td>11213.0</td>\n",
              "      <td>11243.0</td>\n",
              "      <td>11179.0</td>\n",
              "      <td>11176.0</td>\n",
              "      <td>10987.0</td>\n",
              "      <td>10978.0</td>\n",
              "      <td>10912.0</td>\n",
              "      <td>11008.0</td>\n",
              "      <td>11079.0</td>\n",
              "    </tr>\n",
              "    <tr>\n",
              "      <th>2014-01-01 08:30:00</th>\n",
              "      <td>9904.0</td>\n",
              "      <td>9933.0</td>\n",
              "      <td>9666.0</td>\n",
              "      <td>9708.0</td>\n",
              "      <td>9792.0</td>\n",
              "      <td>9845.0</td>\n",
              "      <td>9850.0</td>\n",
              "      <td>9822.0</td>\n",
              "      <td>9872.0</td>\n",
              "      <td>9902.0</td>\n",
              "      <td>...</td>\n",
              "      <td>11052.0</td>\n",
              "      <td>11102.0</td>\n",
              "      <td>11213.0</td>\n",
              "      <td>11243.0</td>\n",
              "      <td>11179.0</td>\n",
              "      <td>11176.0</td>\n",
              "      <td>10987.0</td>\n",
              "      <td>10978.0</td>\n",
              "      <td>10912.0</td>\n",
              "      <td>11008.0</td>\n",
              "    </tr>\n",
              "    <tr>\n",
              "      <th>2014-01-01 08:40:00</th>\n",
              "      <td>9960.0</td>\n",
              "      <td>9904.0</td>\n",
              "      <td>9933.0</td>\n",
              "      <td>9666.0</td>\n",
              "      <td>9708.0</td>\n",
              "      <td>9792.0</td>\n",
              "      <td>9845.0</td>\n",
              "      <td>9850.0</td>\n",
              "      <td>9822.0</td>\n",
              "      <td>9872.0</td>\n",
              "      <td>...</td>\n",
              "      <td>10983.0</td>\n",
              "      <td>11052.0</td>\n",
              "      <td>11102.0</td>\n",
              "      <td>11213.0</td>\n",
              "      <td>11243.0</td>\n",
              "      <td>11179.0</td>\n",
              "      <td>11176.0</td>\n",
              "      <td>10987.0</td>\n",
              "      <td>10978.0</td>\n",
              "      <td>10912.0</td>\n",
              "    </tr>\n",
              "    <tr>\n",
              "      <th>...</th>\n",
              "      <td>...</td>\n",
              "      <td>...</td>\n",
              "      <td>...</td>\n",
              "      <td>...</td>\n",
              "      <td>...</td>\n",
              "      <td>...</td>\n",
              "      <td>...</td>\n",
              "      <td>...</td>\n",
              "      <td>...</td>\n",
              "      <td>...</td>\n",
              "      <td>...</td>\n",
              "      <td>...</td>\n",
              "      <td>...</td>\n",
              "      <td>...</td>\n",
              "      <td>...</td>\n",
              "      <td>...</td>\n",
              "      <td>...</td>\n",
              "      <td>...</td>\n",
              "      <td>...</td>\n",
              "      <td>...</td>\n",
              "      <td>...</td>\n",
              "    </tr>\n",
              "    <tr>\n",
              "      <th>2020-12-31 23:00:00</th>\n",
              "      <td>7887.0</td>\n",
              "      <td>8032.0</td>\n",
              "      <td>8044.0</td>\n",
              "      <td>8164.0</td>\n",
              "      <td>8040.0</td>\n",
              "      <td>7877.0</td>\n",
              "      <td>8033.0</td>\n",
              "      <td>8099.0</td>\n",
              "      <td>8043.0</td>\n",
              "      <td>8031.0</td>\n",
              "      <td>...</td>\n",
              "      <td>10096.0</td>\n",
              "      <td>10050.0</td>\n",
              "      <td>10109.0</td>\n",
              "      <td>10129.0</td>\n",
              "      <td>10207.0</td>\n",
              "      <td>10276.0</td>\n",
              "      <td>10350.0</td>\n",
              "      <td>10431.0</td>\n",
              "      <td>10352.0</td>\n",
              "      <td>10480.0</td>\n",
              "    </tr>\n",
              "    <tr>\n",
              "      <th>2020-12-31 23:10:00</th>\n",
              "      <td>7771.0</td>\n",
              "      <td>7887.0</td>\n",
              "      <td>8032.0</td>\n",
              "      <td>8044.0</td>\n",
              "      <td>8164.0</td>\n",
              "      <td>8040.0</td>\n",
              "      <td>7877.0</td>\n",
              "      <td>8033.0</td>\n",
              "      <td>8099.0</td>\n",
              "      <td>8043.0</td>\n",
              "      <td>...</td>\n",
              "      <td>9990.0</td>\n",
              "      <td>10096.0</td>\n",
              "      <td>10050.0</td>\n",
              "      <td>10109.0</td>\n",
              "      <td>10129.0</td>\n",
              "      <td>10207.0</td>\n",
              "      <td>10276.0</td>\n",
              "      <td>10350.0</td>\n",
              "      <td>10431.0</td>\n",
              "      <td>10352.0</td>\n",
              "    </tr>\n",
              "    <tr>\n",
              "      <th>2020-12-31 23:20:00</th>\n",
              "      <td>7577.0</td>\n",
              "      <td>7771.0</td>\n",
              "      <td>7887.0</td>\n",
              "      <td>8032.0</td>\n",
              "      <td>8044.0</td>\n",
              "      <td>8164.0</td>\n",
              "      <td>8040.0</td>\n",
              "      <td>7877.0</td>\n",
              "      <td>8033.0</td>\n",
              "      <td>8099.0</td>\n",
              "      <td>...</td>\n",
              "      <td>9791.0</td>\n",
              "      <td>9990.0</td>\n",
              "      <td>10096.0</td>\n",
              "      <td>10050.0</td>\n",
              "      <td>10109.0</td>\n",
              "      <td>10129.0</td>\n",
              "      <td>10207.0</td>\n",
              "      <td>10276.0</td>\n",
              "      <td>10350.0</td>\n",
              "      <td>10431.0</td>\n",
              "    </tr>\n",
              "    <tr>\n",
              "      <th>2020-12-31 23:30:00</th>\n",
              "      <td>7434.0</td>\n",
              "      <td>7577.0</td>\n",
              "      <td>7771.0</td>\n",
              "      <td>7887.0</td>\n",
              "      <td>8032.0</td>\n",
              "      <td>8044.0</td>\n",
              "      <td>8164.0</td>\n",
              "      <td>8040.0</td>\n",
              "      <td>7877.0</td>\n",
              "      <td>8033.0</td>\n",
              "      <td>...</td>\n",
              "      <td>9659.0</td>\n",
              "      <td>9791.0</td>\n",
              "      <td>9990.0</td>\n",
              "      <td>10096.0</td>\n",
              "      <td>10050.0</td>\n",
              "      <td>10109.0</td>\n",
              "      <td>10129.0</td>\n",
              "      <td>10207.0</td>\n",
              "      <td>10276.0</td>\n",
              "      <td>10350.0</td>\n",
              "    </tr>\n",
              "    <tr>\n",
              "      <th>2020-12-31 23:40:00</th>\n",
              "      <td>7349.0</td>\n",
              "      <td>7434.0</td>\n",
              "      <td>7577.0</td>\n",
              "      <td>7771.0</td>\n",
              "      <td>7887.0</td>\n",
              "      <td>8032.0</td>\n",
              "      <td>8044.0</td>\n",
              "      <td>8164.0</td>\n",
              "      <td>8040.0</td>\n",
              "      <td>7877.0</td>\n",
              "      <td>...</td>\n",
              "      <td>9481.0</td>\n",
              "      <td>9659.0</td>\n",
              "      <td>9791.0</td>\n",
              "      <td>9990.0</td>\n",
              "      <td>10096.0</td>\n",
              "      <td>10050.0</td>\n",
              "      <td>10109.0</td>\n",
              "      <td>10129.0</td>\n",
              "      <td>10207.0</td>\n",
              "      <td>10276.0</td>\n",
              "    </tr>\n",
              "  </tbody>\n",
              "</table>\n",
              "<p>368159 rows × 48 columns</p>\n",
              "</div>\n",
              "      <button class=\"colab-df-convert\" onclick=\"convertToInteractive('df-f6883314-2e1e-42ab-967d-1eb1ed425c13')\"\n",
              "              title=\"Convert this dataframe to an interactive table.\"\n",
              "              style=\"display:none;\">\n",
              "        \n",
              "  <svg xmlns=\"http://www.w3.org/2000/svg\" height=\"24px\"viewBox=\"0 0 24 24\"\n",
              "       width=\"24px\">\n",
              "    <path d=\"M0 0h24v24H0V0z\" fill=\"none\"/>\n",
              "    <path d=\"M18.56 5.44l.94 2.06.94-2.06 2.06-.94-2.06-.94-.94-2.06-.94 2.06-2.06.94zm-11 1L8.5 8.5l.94-2.06 2.06-.94-2.06-.94L8.5 2.5l-.94 2.06-2.06.94zm10 10l.94 2.06.94-2.06 2.06-.94-2.06-.94-.94-2.06-.94 2.06-2.06.94z\"/><path d=\"M17.41 7.96l-1.37-1.37c-.4-.4-.92-.59-1.43-.59-.52 0-1.04.2-1.43.59L10.3 9.45l-7.72 7.72c-.78.78-.78 2.05 0 2.83L4 21.41c.39.39.9.59 1.41.59.51 0 1.02-.2 1.41-.59l7.78-7.78 2.81-2.81c.8-.78.8-2.07 0-2.86zM5.41 20L4 18.59l7.72-7.72 1.47 1.35L5.41 20z\"/>\n",
              "  </svg>\n",
              "      </button>\n",
              "      \n",
              "  <style>\n",
              "    .colab-df-container {\n",
              "      display:flex;\n",
              "      flex-wrap:wrap;\n",
              "      gap: 12px;\n",
              "    }\n",
              "\n",
              "    .colab-df-convert {\n",
              "      background-color: #E8F0FE;\n",
              "      border: none;\n",
              "      border-radius: 50%;\n",
              "      cursor: pointer;\n",
              "      display: none;\n",
              "      fill: #1967D2;\n",
              "      height: 32px;\n",
              "      padding: 0 0 0 0;\n",
              "      width: 32px;\n",
              "    }\n",
              "\n",
              "    .colab-df-convert:hover {\n",
              "      background-color: #E2EBFA;\n",
              "      box-shadow: 0px 1px 2px rgba(60, 64, 67, 0.3), 0px 1px 3px 1px rgba(60, 64, 67, 0.15);\n",
              "      fill: #174EA6;\n",
              "    }\n",
              "\n",
              "    [theme=dark] .colab-df-convert {\n",
              "      background-color: #3B4455;\n",
              "      fill: #D2E3FC;\n",
              "    }\n",
              "\n",
              "    [theme=dark] .colab-df-convert:hover {\n",
              "      background-color: #434B5C;\n",
              "      box-shadow: 0px 1px 3px 1px rgba(0, 0, 0, 0.15);\n",
              "      filter: drop-shadow(0px 1px 2px rgba(0, 0, 0, 0.3));\n",
              "      fill: #FFFFFF;\n",
              "    }\n",
              "  </style>\n",
              "\n",
              "      <script>\n",
              "        const buttonEl =\n",
              "          document.querySelector('#df-f6883314-2e1e-42ab-967d-1eb1ed425c13 button.colab-df-convert');\n",
              "        buttonEl.style.display =\n",
              "          google.colab.kernel.accessAllowed ? 'block' : 'none';\n",
              "\n",
              "        async function convertToInteractive(key) {\n",
              "          const element = document.querySelector('#df-f6883314-2e1e-42ab-967d-1eb1ed425c13');\n",
              "          const dataTable =\n",
              "            await google.colab.kernel.invokeFunction('convertToInteractive',\n",
              "                                                     [key], {});\n",
              "          if (!dataTable) return;\n",
              "\n",
              "          const docLinkHtml = 'Like what you see? Visit the ' +\n",
              "            '<a target=\"_blank\" href=https://colab.research.google.com/notebooks/data_table.ipynb>data table notebook</a>'\n",
              "            + ' to learn more about interactive tables.';\n",
              "          element.innerHTML = '';\n",
              "          dataTable['output_type'] = 'display_data';\n",
              "          await google.colab.output.renderOutput(dataTable, element);\n",
              "          const docLink = document.createElement('div');\n",
              "          docLink.innerHTML = docLinkHtml;\n",
              "          element.appendChild(docLink);\n",
              "        }\n",
              "      </script>\n",
              "    </div>\n",
              "  </div>\n",
              "  "
            ]
          },
          "metadata": {},
          "execution_count": 30
        }
      ]
    },
    {
      "cell_type": "code",
      "source": [
        "# Predicciones\n",
        "# ==============================================================================\n",
        "predicciones = forecaster.predict(steps=steps)\n",
        "predicciones.head(5)"
      ],
      "metadata": {
        "id": "yaReh991J-iT",
        "colab": {
          "base_uri": "https://localhost:8080/"
        },
        "outputId": "ff69f805-1b6f-4389-d23d-5a719d195bc0"
      },
      "execution_count": null,
      "outputs": [
        {
          "output_type": "execute_result",
          "data": {
            "text/plain": [
              "2020-12-31 23:50:00    7129.78\n",
              "Freq: 10T, Name: pred, dtype: float64"
            ]
          },
          "metadata": {},
          "execution_count": 31
        }
      ]
    },
    {
      "cell_type": "code",
      "source": [
        "# Error test\n",
        "# ==============================================================================\n",
        "error_mse = mean_squared_error(\n",
        "                y_true = datos_test['y'],\n",
        "                y_pred = predicciones\n",
        "            )\n",
        "\n",
        "error_mae = mean_absolute_error(datos_test['y'], predicciones)\n",
        "\n",
        "print(f\"Error de test (mse): {error_mse}\")\n",
        "print(f\"Error de test (mae): {error_mae}\")"
      ],
      "metadata": {
        "id": "iTZG514OBibk",
        "colab": {
          "base_uri": "https://localhost:8080/"
        },
        "outputId": "0009b102-7e3e-4bbb-909d-690482721f56"
      },
      "execution_count": null,
      "outputs": [
        {
          "output_type": "stream",
          "name": "stdout",
          "text": [
            "Error de test (mse): 450.2884000000108\n",
            "Error de test (mae): 21.220000000000255\n"
          ]
        }
      ]
    },
    {
      "cell_type": "markdown",
      "source": [
        "# Ajuste de hiperparámetros"
      ],
      "metadata": {
        "id": "doA2Zj5DBugN"
      }
    },
    {
      "cell_type": "code",
      "source": [
        "# Grid search de hiperparámetros\n",
        "# ==============================================================================\n",
        "forecaster = ForecasterAutoreg(\n",
        "                regressor = RandomForestRegressor(random_state=123),\n",
        "                lags      = lags # Este valor será remplazado en el grid search\n",
        "             )\n",
        "\n",
        "# Lags utilizados como predictores\n",
        "lags_grid = [24]\n",
        "\n",
        "# Hiperparámetros del regresor\n",
        "param_grid = {'n_estimators': [100, 500],\n",
        "              'max_depth': [3, 5, 10]}\n",
        "\n",
        "resultados_grid = grid_search_forecaster(\n",
        "                        forecaster         = forecaster,\n",
        "                        y                  = datos_train['y'],\n",
        "                        param_grid         = param_grid,\n",
        "                        lags_grid          = lags_grid,\n",
        "                        steps              = steps,\n",
        "                        refit              = False,\n",
        "                        metric             = 'mean_squared_error',\n",
        "                        initial_train_size = int(len(datos_train)*0.5),\n",
        "                        fixed_train_size   = False,\n",
        "                        return_best        = True,\n",
        "                        verbose            = False\n",
        "                  )"
      ],
      "metadata": {
        "id": "KePECuGsBvtD"
      },
      "execution_count": null,
      "outputs": []
    },
    {
      "cell_type": "code",
      "source": [
        "# Resultados Grid Search\n",
        "# ==============================================================================\n",
        "resultados_grid"
      ],
      "metadata": {
        "id": "Bbo7CcNoByUD"
      },
      "execution_count": null,
      "outputs": []
    },
    {
      "cell_type": "markdown",
      "source": [
        "# Predicción final"
      ],
      "metadata": {
        "id": "8-xn5yoWBzUs"
      }
    },
    {
      "cell_type": "code",
      "source": [
        "# Crear y entrenar forecaster con mejores hiperparámetros\n",
        "# ==============================================================================\n",
        "regressor = RandomForestRegressor(max_depth=10, n_estimators=500, random_state=123)\n",
        "forecaster = ForecasterAutoreg(\n",
        "                regressor = regressor,\n",
        "                lags      = lags\n",
        "             )\n",
        "\n",
        "forecaster.fit(y=datos_train['y'])"
      ],
      "metadata": {
        "id": "izgeGjq9B2al"
      },
      "execution_count": null,
      "outputs": []
    },
    {
      "cell_type": "code",
      "source": [
        "# Predicciones\n",
        "# ==============================================================================\n",
        "predicciones = forecaster.predict(steps=steps)\n",
        "predicciones.head(5)"
      ],
      "metadata": {
        "id": "eswr9cRhB4XE",
        "colab": {
          "base_uri": "https://localhost:8080/"
        },
        "outputId": "004a6860-585a-4ada-d0cd-b77dbebbed35"
      },
      "execution_count": null,
      "outputs": [
        {
          "output_type": "execute_result",
          "data": {
            "text/plain": [
              "2022-02-25    39.097241\n",
              "Freq: H, Name: pred, dtype: float64"
            ]
          },
          "metadata": {},
          "execution_count": 24
        }
      ]
    },
    {
      "cell_type": "code",
      "source": [
        "# Gráfico\n",
        "# ==============================================================================\n",
        "fig, ax = plt.subplots(figsize=(9, 4))\n",
        "datos_train['y'].plot(ax=ax, label='train')\n",
        "datos_test['y'].plot(ax=ax, label='test')\n",
        "predicciones.plot(ax=ax, label='predicciones')\n",
        "ax.legend();"
      ],
      "metadata": {
        "id": "4r-PC5EaB5e8"
      },
      "execution_count": null,
      "outputs": []
    },
    {
      "cell_type": "code",
      "source": [
        "# Error de test\n",
        "# ==============================================================================\n",
        "error_mse = mean_squared_error(\n",
        "                y_true = datos_test['y'],\n",
        "                y_pred = predicciones\n",
        "            )\n",
        "\n",
        "error_mae = mean_absolute_error(datos_test['y'], predicciones)\n",
        "\n",
        "print(f\"Error de test (mse): {error_mse}\")\n",
        "print(f\"Error de test (mae): {error_mae}\")"
      ],
      "metadata": {
        "colab": {
          "base_uri": "https://localhost:8080/"
        },
        "id": "JSSnPX-tB6wU",
        "outputId": "e5a291c8-8ed8-4a67-f33c-1ecff4ec548b"
      },
      "execution_count": null,
      "outputs": [
        {
          "output_type": "stream",
          "name": "stdout",
          "text": [
            "Error de test (mse): 34.84256749245909\n",
            "Error de test (mae): 5.902759311750657\n"
          ]
        }
      ]
    },
    {
      "cell_type": "markdown",
      "source": [
        "# Algoritmo genético"
      ],
      "metadata": {
        "id": "IDjfr0rnNRSD"
      }
    },
    {
      "cell_type": "code",
      "source": [
        "function_inputs = datos_train['y'][:48]\n",
        "desired_output = datos_test['y'][0]"
      ],
      "metadata": {
        "id": "cGW3AU68NYTV"
      },
      "execution_count": null,
      "outputs": []
    },
    {
      "cell_type": "code",
      "source": [
        "def fitness_func(solution, solution_idx):\n",
        "    output = np.sum(solution*function_inputs)\n",
        "    fitness = 1.0 / np.abs(output - desired_output)\n",
        "    return fitness"
      ],
      "metadata": {
        "id": "tLuISlWUNZ69"
      },
      "execution_count": null,
      "outputs": []
    },
    {
      "cell_type": "code",
      "source": [
        "fitness_function = fitness_func\n",
        "\n",
        "num_generations = 50\n",
        "num_parents_mating = 4\n",
        "\n",
        "sol_per_pop = 8\n",
        "num_genes = len(function_inputs)\n",
        "\n",
        "init_range_low = -2\n",
        "init_range_high = 5\n",
        "\n",
        "parent_selection_type = \"sss\"\n",
        "keep_parents = 1\n",
        "\n",
        "crossover_type = \"single_point\"\n",
        "\n",
        "mutation_type = \"random\"\n",
        "mutation_percent_genes = 10"
      ],
      "metadata": {
        "id": "aAVjBdqYNbI7"
      },
      "execution_count": null,
      "outputs": []
    },
    {
      "cell_type": "code",
      "source": [
        "ga_instance = pg.GA(num_generations=num_generations,\n",
        "                       num_parents_mating=num_parents_mating,\n",
        "                       fitness_func=fitness_function,\n",
        "                       sol_per_pop=sol_per_pop,\n",
        "                       num_genes=num_genes,\n",
        "                       init_range_low=init_range_low,\n",
        "                       init_range_high=init_range_high,\n",
        "                       parent_selection_type=parent_selection_type,\n",
        "                       keep_parents=keep_parents,\n",
        "                       crossover_type=crossover_type,\n",
        "                       mutation_type=mutation_type,\n",
        "                       mutation_percent_genes=mutation_percent_genes)"
      ],
      "metadata": {
        "id": "mN_ALfZQNc2E"
      },
      "execution_count": null,
      "outputs": []
    },
    {
      "cell_type": "code",
      "source": [
        "ga_instance.run()"
      ],
      "metadata": {
        "id": "B8xPvApMNdNV"
      },
      "execution_count": null,
      "outputs": []
    },
    {
      "cell_type": "code",
      "source": [
        "solution, solution_fitness, solution_idx = ga_instance.best_solution()\n",
        "print(\"Parameters of the best solution : {solution}\".format(solution=solution))\n",
        "print(\"Fitness value of the best solution = {solution_fitness}\".format(solution_fitness=solution_fitness))\n",
        "\n",
        "prediction = np.sum(np.array(function_inputs)*solution)\n",
        "print(\"Predicted output based on the best solution : {prediction}\".format(prediction=prediction))"
      ],
      "metadata": {
        "colab": {
          "base_uri": "https://localhost:8080/"
        },
        "id": "_qfDTF0tNfNT",
        "outputId": "00eb9d31-bd43-43c6-ce39-b18512eff5bf"
      },
      "execution_count": null,
      "outputs": [
        {
          "output_type": "stream",
          "name": "stdout",
          "text": [
            "Parameters of the best solution : [-3.12490887  1.56340335  0.99667457 -0.4330145  -0.36318699 -1.745986\n",
            " -0.94163263  3.01198829  4.54733298 -1.67807689  3.91066719 -2.54098127\n",
            " -1.78645156 -0.08483592 -1.96101106  0.61088098 -2.07683298 -2.95719514\n",
            " -0.06125509  0.71621025  1.98014302 -0.44296854  3.30862819  0.99910378\n",
            " -2.90023211 -0.67983943  3.37496525  1.46218416 -3.73728743 -1.44351556\n",
            " -2.5176048   1.72589926  3.75344506 -2.10173709 -0.28365075  2.29263356\n",
            "  1.9057329  -0.30222329 -2.62331426 -0.64667414  1.64821854  0.14020174\n",
            "  0.04952852 -2.40881175  2.95651599 -1.7214395  -0.90338934  2.10833557]\n",
            "Fitness value of the best solution = 0.008095032574281827\n",
            "Predicted output based on the best solution : 7027.46745200544\n"
          ]
        }
      ]
    },
    {
      "cell_type": "markdown",
      "source": [
        "# Bucle de genético"
      ],
      "metadata": {
        "id": "cMdLx-9e_A27"
      }
    },
    {
      "cell_type": "code",
      "source": [
        "# Preparativos\n",
        "# ==============================================================================\n",
        "from collections import defaultdict\n",
        "results = defaultdict(lambda: {})\n",
        "\n",
        "# Descarga de datos\n",
        "# ==============================================================================\n",
        "url = 'https://www.dropbox.com/s/2o68sl7q6dcv156/data_no_timestamp.csv?dl=1'\n",
        "datos = pd.read_csv(url, sep=',', names=['fecha', 'y'], usecols=['fecha', 'y'], header=None)\n",
        "\n",
        "# Preparación del dato\n",
        "# ==============================================================================\n",
        "datos['fecha'] = pd.to_datetime(datos['fecha'], format='%Y-%m-%dT%H:%M:%S.%f', errors = 'coerce')\n",
        "datos = datos.set_index('fecha')\n",
        "datos = datos.rename(columns={'x': 'y'})\n",
        "datos = datos.asfreq('10min')\n",
        "datos = datos.astype({'y': 'float'})\n",
        "datos = datos.sort_index()\n",
        "\n",
        "for i in range(0, len(datos) - 49):\n",
        "  # Separación datos train-test\n",
        "  # ==============================================================================\n",
        "  function_inputs = datos['y'][i:i+48]\n",
        "  desired_output  = datos['y'][i+48:i+49]\n",
        "\n",
        "  # Función fitness\n",
        "  # ==============================================================================\n",
        "  def fitness_func(solution, solution_idx):\n",
        "    output = np.sum(solution*function_inputs)\n",
        "    fitness = 1.0 / np.abs(output - desired_output)\n",
        "    return fitness[0]\n",
        "\n",
        "  # Crear y entrenar\n",
        "  # ==============================================================================\n",
        "  fitness_function = fitness_func\n",
        "\n",
        "  num_generations = 50\n",
        "  num_parents_mating = 4\n",
        "\n",
        "  sol_per_pop = 8\n",
        "  num_genes = len(function_inputs)\n",
        "\n",
        "  init_range_low = -2\n",
        "  init_range_high = 5\n",
        "\n",
        "  parent_selection_type = \"sss\"\n",
        "  keep_parents = 1\n",
        "\n",
        "  crossover_type = \"single_point\"\n",
        "\n",
        "  mutation_type = \"random\"\n",
        "  mutation_percent_genes = 10\n",
        "\n",
        "  ga_instance = pg.GA(num_generations=num_generations,\n",
        "                       num_parents_mating=num_parents_mating,\n",
        "                       fitness_func=fitness_function,\n",
        "                       sol_per_pop=sol_per_pop,\n",
        "                       num_genes=num_genes,\n",
        "                       init_range_low=init_range_low,\n",
        "                       init_range_high=init_range_high,\n",
        "                       parent_selection_type=parent_selection_type,\n",
        "                       keep_parents=keep_parents,\n",
        "                       crossover_type=crossover_type,\n",
        "                       mutation_type=mutation_type,\n",
        "                       mutation_percent_genes=mutation_percent_genes)\n",
        "\n",
        "  # Predicciones\n",
        "  # ==============================================================================\n",
        "  ga_instance.run()\n",
        "\n",
        "  solution, solution_fitness, solution_idx = ga_instance.best_solution()\n",
        "  #print(\"Parameters of the best solution : {solution}\".format(solution=solution))\n",
        "  #print(\"Fitness value of the best solution = {solution_fitness}\".format(solution_fitness=solution_fitness))\n",
        "\n",
        "  prediction = np.sum(np.array(function_inputs)*solution)\n",
        "  #print(\"Predicted output based on the best solution : {prediction}\".format(prediction=prediction))\n",
        "\n",
        "  # Error test\n",
        "  # ==============================================================================\n",
        "  error_mse = mean_squared_error(\n",
        "                  y_true = desired_output,\n",
        "                  y_pred = [prediction]\n",
        "              )\n",
        "\n",
        "  error_mae = mean_absolute_error(desired_output, [prediction])\n",
        "\n",
        "  results['Iter'][i] = i\n",
        "  results['Solut'][i] = solution\n",
        "  results['Orig'][i] = desired_output[0]\n",
        "  results['Pred'][i] = prediction\n",
        "  results['MAE'][i] = error_mae\n",
        "\n",
        "  #print(\"Iteración: \", i,\", Original: \", desired_output[0],\", MAE: \", error_mae)\n",
        "  #print(\"- - - - - - - - - - - - - - - - - -\")"
      ],
      "metadata": {
        "id": "l2MDRuL8_FoD"
      },
      "execution_count": null,
      "outputs": []
    },
    {
      "cell_type": "markdown",
      "source": [
        "# Registro en CSV"
      ],
      "metadata": {
        "id": "8o65PqvAa1hn"
      }
    },
    {
      "cell_type": "code",
      "source": [
        "import csv\n",
        "\n",
        "with open('/content/drive/MyDrive/Ejecucion1EOLO.csv', 'w') as csvfile:\n",
        "  fieldnames = ['iter', 'solut', 'orig', 'pred', 'mae']\n",
        "  writer = csv.DictWriter(csvfile, fieldnames=fieldnames)\n",
        "\n",
        "  writer.writeheader()\n",
        "  for i in range(len(results['MAE'])):\n",
        "    writer.writerow({'iter': results['Iter'][i],\n",
        "                     'solut': results['Solut'][i],\n",
        "                     'orig': results['Orig'][i],\n",
        "                     'pred': results['Pred'][i],\n",
        "                     'mae': results['MAE'][i]})"
      ],
      "metadata": {
        "id": "eJFLe2Cw5-38"
      },
      "execution_count": null,
      "outputs": []
    },
    {
      "cell_type": "markdown",
      "source": [
        "# Lectura de CSV"
      ],
      "metadata": {
        "id": "Z_Lrzq_Za8C1"
      }
    },
    {
      "cell_type": "code",
      "source": [
        "from collections import defaultdict\n",
        "results = defaultdict(lambda: {})\n",
        "\n",
        "# Read training set\n",
        "filename = '/content/drive/MyDrive/Investigación/CSVs PyGAD/Ejecucion3.csv'\n",
        "datos = pd.read_csv(filename, sep=',')\n",
        "datos = datos.set_index('iter')\n",
        "\n",
        "for i in range(len(datos)):\n",
        "  results['Iter'][i] = i\n",
        "  results['Solut'][i] = datos['solut'][i].split()\n",
        "  results['Orig'][i] = datos['orig'][i]\n",
        "  results['Pred'][i] = datos['pred'][i]\n",
        "  results['MAE'][i] = datos['mae'][i]"
      ],
      "metadata": {
        "id": "P1CUlWOta8tu"
      },
      "execution_count": null,
      "outputs": []
    },
    {
      "cell_type": "markdown",
      "source": [
        "# Operaciones"
      ],
      "metadata": {
        "id": "62gJB1p1bAI2"
      }
    },
    {
      "cell_type": "code",
      "source": [
        "sum(results['MAE'].values()) / len(results['MAE'])"
      ],
      "metadata": {
        "id": "16jYWLMc5W7d"
      },
      "execution_count": null,
      "outputs": []
    },
    {
      "cell_type": "code",
      "source": [
        "max(results['MAE'].values())"
      ],
      "metadata": {
        "id": "r_I90LQV7YFl"
      },
      "execution_count": null,
      "outputs": []
    },
    {
      "cell_type": "code",
      "source": [
        "min(results['MAE'].values())"
      ],
      "metadata": {
        "id": "W799eRjJ7a3P"
      },
      "execution_count": null,
      "outputs": []
    },
    {
      "cell_type": "markdown",
      "source": [
        "# Mapa de Calor"
      ],
      "metadata": {
        "id": "t3gBFC3zh-vQ"
      }
    },
    {
      "cell_type": "code",
      "source": [
        "import seaborn as sns\n",
        "\n",
        "def heatmap_generations(solutions):\n",
        "  heat2 = []\n",
        "\n",
        "  errors = []\n",
        "  for x in solutions:\n",
        "    for z in x:\n",
        "      if (z != '[' and z != ']'):\n",
        "        w = z.replace(\"[\", \"\")\n",
        "        h = w.replace(\"]\", \"\")\n",
        "        errors.append(float(h))\n",
        "\n",
        "  index_pos = np.arange(0, len(solutions))\n",
        "  index_alfa = np.arange(0, len(solutions))\n",
        "\n",
        "  data = {\n",
        "      'generacion': np.repeat(index_pos, len(solutions)),\n",
        "      'posicion': np.tile(index_alfa, len(solutions)),\n",
        "      'ventana': errors\n",
        "    }\n",
        "\n",
        "  df = pd.DataFrame(data, columns = ['generacion', 'posicion', 'ventana'])\n",
        "  df = df.pivot('generacion', 'posicion', 'ventana')\n",
        "\n",
        "  fig, ax = plt.subplots(figsize=(50,50)) \n",
        "\n",
        "  sns.heatmap(df, ax=ax)"
      ],
      "metadata": {
        "id": "3duv6PJRiAhY"
      },
      "execution_count": null,
      "outputs": []
    },
    {
      "cell_type": "code",
      "source": [
        "array = []\n",
        "\n",
        "for x in range(48):\n",
        "  array.append(results['Solut'][len(results['Solut']) - (48 - x)])\n",
        "\n",
        "heatmap_generations(array)"
      ],
      "metadata": {
        "id": "nCYlTXftjEJI",
        "colab": {
          "base_uri": "https://localhost:8080/",
          "height": 1000
        },
        "outputId": "cb8248d1-ccf1-4720-a287-dcd2985db85a"
      },
      "execution_count": null,
      "outputs": [
        {
          "output_type": "display_data",
          "data": {
            "text/plain": [
              "<Figure size 3600x3600 with 2 Axes>"
            ],
            "image/png": "[encoded data removed]"
          },
          "metadata": {
            "needs_background": "light"
          }
        }
      ]
    }
  ]
}